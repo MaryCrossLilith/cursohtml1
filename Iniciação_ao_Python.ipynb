{
  "nbformat": 4,
  "nbformat_minor": 0,
  "metadata": {
    "colab": {
      "provenance": [],
      "authorship_tag": "ABX9TyN/GMMuCU5QEj5fKCTDav6B",
      "include_colab_link": true
    },
    "kernelspec": {
      "name": "python3",
      "display_name": "Python 3"
    },
    "language_info": {
      "name": "python"
    }
  },
  "cells": [
    {
      "cell_type": "markdown",
      "metadata": {
        "id": "view-in-github",
        "colab_type": "text"
      },
      "source": [
        "<a href=\"https://colab.research.google.com/github/MaryCrossLilith/cursohtml1/blob/main/Inicia%C3%A7%C3%A3o_ao_Python.ipynb\" target=\"_parent\"><img src=\"https://colab.research.google.com/assets/colab-badge.svg\" alt=\"Open In Colab\"/></a>"
      ]
    },
    {
      "cell_type": "markdown",
      "source": [
        "##Aula 1\n"
      ],
      "metadata": {
        "id": "cq9PvCkxQCcs"
      }
    },
    {
      "cell_type": "code",
      "execution_count": null,
      "metadata": {
        "colab": {
          "base_uri": "https://localhost:8080/"
        },
        "id": "BvqxoakHLDdt",
        "outputId": "1271dd06-7bcf-4075-ba08-fdd82e84f170"
      },
      "outputs": [
        {
          "output_type": "stream",
          "name": "stdout",
          "text": [
            "I Competição de Programação da Start\n"
          ]
        }
      ],
      "source": [
        "print(\"I Competição de Programação da Start\")"
      ]
    },
    {
      "cell_type": "code",
      "source": [
        "ano = \"II\"\n",
        "print (ano, \"Competição de Programação da Start\")"
      ],
      "metadata": {
        "colab": {
          "base_uri": "https://localhost:8080/"
        },
        "id": "4m_dZf2BMvPI",
        "outputId": "a0ed3529-827f-4b3d-a262-5566f808171e"
      },
      "execution_count": null,
      "outputs": [
        {
          "output_type": "stream",
          "name": "stdout",
          "text": [
            "II Competição de Programação da Start\n"
          ]
        }
      ]
    },
    {
      "cell_type": "code",
      "source": [
        "print (f\"{ano} Competição de Programação da Start\")"
      ],
      "metadata": {
        "colab": {
          "base_uri": "https://localhost:8080/"
        },
        "id": "wgPSZhcXNvfF",
        "outputId": "789ce6c9-fc07-4702-c436-cf242ed75d8f"
      },
      "execution_count": null,
      "outputs": [
        {
          "output_type": "stream",
          "name": "stdout",
          "text": [
            "II Competição de Programação da Start\n"
          ]
        }
      ]
    },
    {
      "cell_type": "markdown",
      "source": [
        "##Aula 2 - Desafio está junto!"
      ],
      "metadata": {
        "id": "6s9MTZz5QLvw"
      }
    },
    {
      "cell_type": "markdown",
      "source": [
        "Uma escola está promovendo uma campanha de incentivo à leitura, em que cada estudante recebe pontos ao concluir livros. Esses pontos podem ser trocados por diferentes prêmios da escola, e as categorias de livros têm valores diferntes de pontos:\n",
        "\n",
        "Ficção: 8 pontos;\n",
        "Não ficção: 8 ponto;\n",
        "Infantis: 6 pontos.\n",
        "Rodrigo, um estudante dessa escola, leu um livro de cada categoria e, agora, quer saber quantos pontos acumulou com sua leitura. Para isso, você deve criar um programa em Python que tenha as seguintes características:\n",
        "\n",
        "Consiga armazenar os pontos de cada categoria de livro;\n",
        "Calcule os pontos de Rodrigo;\n",
        "Apresente na tela os pontos de Rodrigo."
      ],
      "metadata": {
        "id": "VhnzxYx2Qtq_"
      }
    },
    {
      "cell_type": "code",
      "source": [
        "livro_ficcao = 10;\n",
        "livro_nficcao = 8;\n",
        "livro_infantil = 6;\n",
        "\n",
        "pontos_rodrigo = livro_ficcao + livro_nficcao + livro_infantil\n",
        "print(f\" Os pontos totais do Rodrigo são: {pontos_rodrigo}\");"
      ],
      "metadata": {
        "colab": {
          "base_uri": "https://localhost:8080/"
        },
        "id": "-Jdq4VUnQwSd",
        "outputId": "dfc81dd6-3e6b-4771-8f79-97cf9d5db02b"
      },
      "execution_count": null,
      "outputs": [
        {
          "output_type": "stream",
          "name": "stdout",
          "text": [
            " Os pontos totais do Rodrigo são: 24\n"
          ]
        }
      ]
    },
    {
      "cell_type": "markdown",
      "source": [
        "Ana, outra estudante dessa escola, participou da campanha e leu dois livros de ficção e cinco livros infantis. Para resolvê-lo, responda as seguintes perguntas programando em Python:\n",
        "\n",
        "Quantos pontos Ana acumulou ao final da leitura?\n",
        "Qual é o total de pontos acumulados por Rodrigo e Ana juntos?\n"
      ],
      "metadata": {
        "id": "whXujXhaST4_"
      }
    },
    {
      "cell_type": "code",
      "source": [
        "livro_ficcao = 2;\n",
        "livro_infantil = 5\n",
        "\n",
        "pontos_ana = livro_ficcao + livro_infantil\n",
        "\n",
        "livro_ficcao = 10;\n",
        "livro_nficcao = 8;\n",
        "livro_infantil = 6;\n",
        "\n",
        "pontos_rodrigo = livro_ficcao + livro_nficcao + livro_infantil\n",
        "\n",
        "total = pontos_ana + pontos_rodrigo\n",
        "print(f\" Os pontos totais de Ana e Rodrigo são: {total}\");"
      ],
      "metadata": {
        "id": "1aBbs9ioScmO",
        "colab": {
          "base_uri": "https://localhost:8080/"
        },
        "outputId": "2ca53f7c-6617-4391-eac1-4dfcddaa0bc7"
      },
      "execution_count": null,
      "outputs": [
        {
          "output_type": "stream",
          "name": "stdout",
          "text": [
            " Os pontos totais de Ana e Rodrigo são: 31\n"
          ]
        }
      ]
    },
    {
      "cell_type": "markdown",
      "source": [
        "##Aula 3 - Desafio está junto!"
      ],
      "metadata": {
        "id": "PShOCyehh3Pw"
      }
    },
    {
      "cell_type": "code",
      "source": [
        "total_de_figurinhas = int(input(\"Digite o total de figurinhas: \"))\n",
        "extras_de_figurinhas = int(input(\"Digite o total de figurinhas: \"))\n",
        "numero_de_amigos = int(input(\"Digite o número de amigos: \"))\n",
        "figurinhas_amigo = total_de_figurinhas // (numero_de_amigos + 2)\n",
        "figurinhas_joao = 2 * figurinhas_amigo\n",
        "\n",
        "print(f\"João recebeu {figurinhas_joao} figurinhas\")"
      ],
      "metadata": {
        "colab": {
          "base_uri": "https://localhost:8080/"
        },
        "id": "4TZQIleyiCfB",
        "outputId": "42c44098-ebb8-4af5-f224-eaf538cb12f6"
      },
      "execution_count": null,
      "outputs": [
        {
          "output_type": "stream",
          "name": "stdout",
          "text": [
            "Digite o total de figurinhas: 3000\n",
            "Digite o número de amigos: 5\n",
            "João recebeu 856 figurinhas\n"
          ]
        }
      ]
    },
    {
      "cell_type": "markdown",
      "source": [
        "##Aula 4"
      ],
      "metadata": {
        "id": "I8Mln9w2jkxe"
      }
    },
    {
      "cell_type": "code",
      "source": [
        "numero_de_alunos = int(input(\"Digite a quantidade de alunos: \"))\n",
        "numero_de_monitores = int(input(\"Digite a quantidade de monitores: \"))\n",
        "resposta_positiva = \"pode ir\"\n",
        "resposta_negativa = \"não pode ir\"\n",
        "if numero_de_alunos + numero_de_monitores <= 50:\n",
        "  print(resposta_positiva);\n",
        "else:\n",
        "  print(resposta_negativa);\n",
        "\n"
      ],
      "metadata": {
        "id": "foIi1tr-jpkP"
      },
      "execution_count": null,
      "outputs": []
    },
    {
      "cell_type": "markdown",
      "source": [
        "##Desafio Aula 4"
      ],
      "metadata": {
        "id": "68OgUVM_S_lo"
      }
    },
    {
      "cell_type": "code",
      "source": [
        "numero_de_alunos = int(input(\"Digite a quantidade de alunos: \"))\n",
        "numero_de_monitores = int(input(\"Digite a quantidade de monitores: \"))\n",
        "numero_de_professores = int(input(\"Digite a quantidade de professores: \"))\n",
        "resposta_positiva = \"cabe\"\n",
        "resposta_negativa = \"não cabe\"\n",
        "\n",
        "if numero_de_alunos + numero_de_monitores <= 30:\n",
        "  print(resposta_positiva);\n",
        "else:\n",
        "  print(resposta_negativa);\n"
      ],
      "metadata": {
        "id": "4DT1vxEdTFM3"
      },
      "execution_count": null,
      "outputs": []
    },
    {
      "cell_type": "markdown",
      "source": [
        "##Aula 5 - Desafio está junto!"
      ],
      "metadata": {
        "id": "B_R5QUZyN3nV"
      }
    },
    {
      "cell_type": "code",
      "source": [
        "P = int(input(\"Digite a posição da porta P (0 ou 1): \"))\n",
        "R = int(input(\"Digite a posição da porta R (0 ou 1): \"))\n",
        "Q = int(input(\"Digite a posição da porta Q (0 ou 1): \"))\n",
        "if P == 0:\n",
        "    print(\"C\")\n",
        "elif R == 1:\n",
        "    print(\"A\")\n",
        "else:\n",
        "    print(\"B\")\n",
        "if P == 0:\n",
        "    print(\"C\")\n",
        "elif R == 1:\n",
        "    print(\"A\")\n",
        "else:\n",
        "    print(\"B\")\n",
        "if Q == 1:\n",
        "    print(\"D\")\n",
        "else:\n",
        "    print(\"D\")"
      ],
      "metadata": {
        "colab": {
          "base_uri": "https://localhost:8080/"
        },
        "id": "tL6LN5ZPN6T0",
        "outputId": "806f8646-ed31-44fa-c77e-94536ba9968f"
      },
      "execution_count": 1,
      "outputs": [
        {
          "output_type": "stream",
          "name": "stdout",
          "text": [
            "Digite a posição da porta P (0 ou 1): 1\n",
            "Digite a posição da porta R (0 ou 1): 1\n",
            "Digite a posição da porta Q (0 ou 1): 0\n",
            "A\n",
            "A\n",
            "D\n"
          ]
        }
      ]
    },
    {
      "cell_type": "markdown",
      "source": [
        "##Aula 6"
      ],
      "metadata": {
        "id": "KkFpV7TrQMmk"
      }
    },
    {
      "cell_type": "code",
      "source": [
        "def calcula_idade_maior(idade_monica, idade_filho1, idade_filho2):\n",
        "  idade_filho3 = idade_monica - idade_filho1 - idade_filho2\n",
        "\n",
        "  idade_maxima = max(idade_filho1, idade_filho2, idade_filho3)\n",
        "\n",
        "  return idade_filho3, idade_maxima\n",
        "\n",
        "resultado = calcula_idade_maior(68, 12, 30)\n",
        "print(resultado)"
      ],
      "metadata": {
        "colab": {
          "base_uri": "https://localhost:8080/"
        },
        "id": "ZpX8YPOqQRO7",
        "outputId": "e5a7007f-c03f-41c3-c15e-3379ce4a3d91"
      },
      "execution_count": 5,
      "outputs": [
        {
          "output_type": "stream",
          "name": "stdout",
          "text": [
            "(26, 30)\n"
          ]
        }
      ]
    },
    {
      "cell_type": "markdown",
      "source": [
        "##Desafio Aula 6"
      ],
      "metadata": {
        "id": "ihRCqxemSLJa"
      }
    },
    {
      "cell_type": "code",
      "source": [
        "def calcula_livro_mais_paginas(livro_1, livro_2, livro_3, livro_4, livro_5):\n",
        "  livro_3 = livro_1 - livro_2 - livro_4 - livro_5\n",
        "\n",
        "  idade_maxima = max(livro_1, livro_2, livro_3, livro_4, livro_5)\n",
        "\n",
        "  return livro_3, idade_maxima\n",
        "\n",
        "resultado = calcula_livro_mais_paginas(700,40,25,75,20)\n",
        "print(resultado)"
      ],
      "metadata": {
        "colab": {
          "base_uri": "https://localhost:8080/"
        },
        "id": "VnhsKK9ySPFC",
        "outputId": "530e26ce-f8c1-4dc7-b58c-7e7b5f9ca379"
      },
      "execution_count": 10,
      "outputs": [
        {
          "output_type": "stream",
          "name": "stdout",
          "text": [
            "(565, 700)\n"
          ]
        }
      ]
    },
    {
      "cell_type": "markdown",
      "source": [
        "##Aula 7"
      ],
      "metadata": {
        "id": "8DC8UAzsUa40"
      }
    },
    {
      "cell_type": "code",
      "source": [
        "def calcula_tabuada(numero):\n",
        "    for contador in range(1, 11):\n",
        "        print(f'{numero} x {contador} = {numero * contador}')\n",
        "\n",
        "calcula_tabuada (3)"
      ],
      "metadata": {
        "colab": {
          "base_uri": "https://localhost:8080/"
        },
        "id": "n2wXeLfcUdKN",
        "outputId": "a8de56fb-fd76-44ae-c2d8-ceb93ad9807d"
      },
      "execution_count": 12,
      "outputs": [
        {
          "output_type": "stream",
          "name": "stdout",
          "text": [
            "3 x 1 = 3\n",
            "3 x 2 = 6\n",
            "3 x 3 = 9\n",
            "3 x 4 = 12\n",
            "3 x 5 = 15\n",
            "3 x 6 = 18\n",
            "3 x 7 = 21\n",
            "3 x 8 = 24\n",
            "3 x 9 = 27\n",
            "3 x 10 = 30\n"
          ]
        }
      ]
    },
    {
      "cell_type": "markdown",
      "source": [
        "##Desafio Aula 7"
      ],
      "metadata": {
        "id": "h7nl2G2BWOCF"
      }
    },
    {
      "cell_type": "code",
      "source": [
        "numero_base = int(input(\"Digite o número base para a Soma: \"))\n",
        "\n",
        "for i in range(1, 11):\n",
        "    print(f\"{numero_base} + {i} = {numero_base + i}\")"
      ],
      "metadata": {
        "colab": {
          "base_uri": "https://localhost:8080/"
        },
        "id": "7FfNgUVyWRRJ",
        "outputId": "6a670279-8af4-471e-9165-cb88e545f6d3"
      },
      "execution_count": 14,
      "outputs": [
        {
          "output_type": "stream",
          "name": "stdout",
          "text": [
            "Digite o número base para a Soma: 6000\n",
            "6000 + 1 = 6001\n",
            "6000 + 2 = 6002\n",
            "6000 + 3 = 6003\n",
            "6000 + 4 = 6004\n",
            "6000 + 5 = 6005\n",
            "6000 + 6 = 6006\n",
            "6000 + 7 = 6007\n",
            "6000 + 8 = 6008\n",
            "6000 + 9 = 6009\n",
            "6000 + 10 = 6010\n"
          ]
        }
      ]
    },
    {
      "cell_type": "markdown",
      "source": [
        "##Aula 8\n",
        "Não tem código, somente falando sobre interpretação!"
      ],
      "metadata": {
        "id": "2QEROY8gXNQl"
      }
    }
  ]
}